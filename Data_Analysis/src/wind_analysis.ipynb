{
 "cells": [
  {
   "cell_type": "markdown",
   "metadata": {},
   "source": [
    "# Wind Turbines analysis"
   ]
  },
  {
   "cell_type": "code",
   "execution_count": 2,
   "metadata": {
    "vscode": {
     "languageId": "ruby"
    }
   },
   "outputs": [],
   "source": [
    "import geopandas as gpd\n",
    "import folium\n",
    "from folium.plugins import MarkerCluster\n",
    "import pydeck as pdk\n",
    "import numpy as np\n",
    "import pandas as pd\n",
    "from sklearn.cluster import DBSCAN"
   ]
  },
  {
   "cell_type": "markdown",
   "metadata": {},
   "source": [
    "## Extract turbines inside Texas territory"
   ]
  },
  {
   "cell_type": "code",
   "execution_count": 3,
   "metadata": {
    "vscode": {
     "languageId": "ruby"
    }
   },
   "outputs": [
    {
     "data": {
      "application/vnd.jupyter.widget-view+json": {
       "model_id": "a50b645faeba437b85883c4f37398f2a",
       "version_major": 2,
       "version_minor": 0
      },
      "text/plain": [
       "DeckGLWidget(carto_key=None, custom_libraries=[], google_maps_key=None, json_input='{\\n  \"initialViewState\": {…"
      ]
     },
     "metadata": {},
     "output_type": "display_data"
    }
   ],
   "source": [
    "# Load the wind turbine locations shape file\n",
    "wind_turbine_shapefile_path = \"../data/uswtdbSHP/uswtdb_v7_0_20240510.shp\"\n",
    "wind_turbine_shapefile = gpd.read_file(wind_turbine_shapefile_path)\n",
    "\n",
    "# Select only the wind turbines in Texas\n",
    "wind_turbines_in_texas = wind_turbine_shapefile[wind_turbine_shapefile['t_state'] == 'TX']\n",
    "\n",
    "# Define a layer to display on a map\n",
    "layer = pdk.Layer(\n",
    "    'ScatterplotLayer',\n",
    "    wind_turbines_in_texas,\n",
    "    get_position='[xlong, ylat]',\n",
    "    get_color=[200, 30, 0, 160],\n",
    "    get_radius=500,)\n",
    "\n",
    "# Set the viewport location\n",
    "view_state = pdk.ViewState(\n",
    "    longitude=wind_turbines_in_texas['xlong'].mean(),\n",
    "    latitude=wind_turbines_in_texas['ylat'].mean(),\n",
    "    zoom=6,\n",
    "    min_zoom=5,\n",
    "    max_zoom=15)\n",
    "\n",
    "# Render\n",
    "r = pdk.Deck(layers=[layer], initial_view_state=view_state)\n",
    "r.show()"
   ]
  },
  {
   "cell_type": "markdown",
   "metadata": {},
   "source": [
    "# Filter the wind turbines build before 2012"
   ]
  },
  {
   "cell_type": "code",
   "execution_count": 4,
   "metadata": {},
   "outputs": [
    {
     "data": {
      "application/vnd.jupyter.widget-view+json": {
       "model_id": "cfd4b4a56531408c824fdaefba4a366d",
       "version_major": 2,
       "version_minor": 0
      },
      "text/plain": [
       "DeckGLWidget(carto_key=None, custom_libraries=[], google_maps_key=None, json_input='{\\n  \"initialViewState\": {…"
      ]
     },
     "metadata": {},
     "output_type": "display_data"
    }
   ],
   "source": [
    "def safe_convert(val):\n",
    "    try:\n",
    "        return int(val[:4])\n",
    "    except ValueError:\n",
    "        return np.nan\n",
    "\n",
    "filtered_df = wind_turbines_in_texas.copy()\n",
    "filtered_df['faa_asn'] = filtered_df['faa_asn'].apply(safe_convert)\n",
    "filtered_df = filtered_df[filtered_df['faa_asn'] <= 2012]\n",
    "\n",
    "\n",
    "layer = pdk.Layer(\n",
    "    'ScatterplotLayer',\n",
    "    filtered_df,\n",
    "    get_position='[xlong, ylat]',  \n",
    "    get_radius=50,\n",
    "    get_fill_color='[200, 30, 0]',\n",
    "    pickable=True,\n",
    "    auto_highlight=True\n",
    ")\n",
    "\n",
    "view_state = pdk.ViewState(\n",
    "    longitude=filtered_df['xlong'].mean(),\n",
    "    latitude=filtered_df['ylat'].mean(),\n",
    "    zoom=6,\n",
    "    min_zoom=5,\n",
    "    max_zoom=15)\n",
    "\n",
    "r = pdk.Deck(layers=[layer], initial_view_state=view_state)\n",
    "r.show()\n",
    "\n",
    "r = pdk.Deck(layers=[layer], initial_view_state=view_state)\n",
    "r.show()"
   ]
  },
  {
   "cell_type": "markdown",
   "metadata": {},
   "source": [
    "## Run DBSCAN algorithm to detect clusters"
   ]
  },
  {
   "cell_type": "code",
   "execution_count": 5,
   "metadata": {},
   "outputs": [
    {
     "name": "stdout",
     "output_type": "stream",
     "text": [
      "Number of clusters found: 34\n"
     ]
    },
    {
     "data": {
      "application/vnd.jupyter.widget-view+json": {
       "model_id": "02396edf85084c4fac16062518e1392f",
       "version_major": 2,
       "version_minor": 0
      },
      "text/plain": [
       "DeckGLWidget(carto_key=None, custom_libraries=[], google_maps_key=None, json_input='{\\n  \"initialViewState\": {…"
      ]
     },
     "metadata": {},
     "output_type": "display_data"
    }
   ],
   "source": [
    "\n",
    "points = filtered_df.geometry.apply(lambda point: (point.x, point.y)).tolist()\n",
    "\n",
    "epsilon = 0.1  # Distance threshold for clustering\n",
    "min_samples = 5  # Minimum number of points required to form a cluster\n",
    "dbscan = DBSCAN(eps=epsilon, min_samples=min_samples)\n",
    "labels = dbscan.fit_predict(points)\n",
    "\n",
    "# Add the cluster labels to the GeoDataFrame\n",
    "filtered_df['cluster_label'] = labels\n",
    "\n",
    "# Print the number of clusters found\n",
    "num_clusters = len(set(labels)) - (1 if -1 in labels else 0)\n",
    "print(f\"Number of clusters found: {num_clusters}\")\n",
    "\n",
    "# Create a scatter plot by assigning different colors to the clusters using pdk\n",
    "\n",
    "layer = pdk.Layer(\n",
    "    'ScatterplotLayer',\n",
    "    filtered_df,\n",
    "    get_position='[xlong, ylat]',  \n",
    "    get_radius=50,\n",
    "    get_fill_color='[200, cluster_label*15, 0]',\n",
    "    pickable=True,\n",
    "    auto_highlight=True\n",
    ")\n",
    "\n",
    "r = pdk.Deck(layers=[layer], initial_view_state=view_state)\n",
    "r.show()"
   ]
  },
  {
   "cell_type": "markdown",
   "metadata": {},
   "source": [
    "## Calculate the centroid of each cluster"
   ]
  },
  {
   "cell_type": "code",
   "execution_count": 6,
   "metadata": {},
   "outputs": [
    {
     "data": {
      "application/vnd.jupyter.widget-view+json": {
       "model_id": "d0aa7edea4a444ad900b8f1ed2919b98",
       "version_major": 2,
       "version_minor": 0
      },
      "text/plain": [
       "DeckGLWidget(carto_key=None, custom_libraries=[], google_maps_key=None, json_input='{\\n  \"initialViewState\": {…"
      ]
     },
     "metadata": {},
     "output_type": "display_data"
    }
   ],
   "source": [
    "centroids = []\n",
    "for cluster_label in range(num_clusters):\n",
    "    cluster_points = filtered_df[filtered_df['cluster_label'] == cluster_label]\n",
    "    centroid = np.mean(cluster_points[['xlong', 'ylat']], axis=0)\n",
    "    centroids.append(centroid)\n",
    "\n",
    "centroids_df = pd.DataFrame(centroids, columns=['xlong', 'ylat'])\n",
    "\n",
    "\n",
    "centroid_layer = pdk.Layer(\n",
    "    'ScatterplotLayer',\n",
    "    data=centroids_df,  # Use the DataFrame here\n",
    "    get_position='[xlong, ylat]',  # Use the column names here\n",
    "    get_radius=2000,\n",
    "    get_fill_color='[0, 191, 255]',\n",
    "    pickable=True,\n",
    "    auto_highlight=True\n",
    ")\n",
    "\n",
    "r = pdk.Deck(layers=[layer, centroid_layer], initial_view_state=view_state)\n",
    "r.show()\n"
   ]
  },
  {
   "cell_type": "markdown",
   "metadata": {},
   "source": [
    "## Create a GeoDataFrame from the centroids DataFrame"
   ]
  },
  {
   "cell_type": "code",
   "execution_count": 9,
   "metadata": {},
   "outputs": [],
   "source": [
    "centroids_gdf = gpd.GeoDataFrame(\n",
    "    centroids_df,\n",
    "    geometry=gpd.points_from_xy(centroids_df['xlong'], centroids_df['ylat'])\n",
    ")\n",
    "\n",
    "# Save the GeoDataFrame to a csv file\n",
    "centroids_gdf.to_csv(\"centroids.csv\", index=False)\n",
    "\n",
    "# Add a cluster_label column to the centroids DataFrame\n",
    "centroids_df['cluster_label'] = range(len(centroids_df))\n",
    "\n",
    "# Merge the centroids_df with the clusters_gdf\n",
    "clusters_gdf = filtered_df.copy()\n",
    "clusters_gdf = clusters_gdf.merge(centroids_df, on='cluster_label', suffixes=('', '_centroid'))\n",
    "\n",
    "# Save the clusters_gdf to a csv file\n",
    "clusters_gdf.to_csv(\"clusters.csv\", index=False)"
   ]
  },
  {
   "cell_type": "markdown",
   "metadata": {},
   "source": [
    "## Test NREL windtoolkit with the centroids coordinates"
   ]
  },
  {
   "cell_type": "code",
   "execution_count": 34,
   "metadata": {},
   "outputs": [
    {
     "name": "stdout",
     "output_type": "stream",
     "text": [
      "0     Year Month Day Hour Minute wind speed at 10m (m/s)  \\\n",
      "1     2012     1   1    0     30      2.7600000000000002   \n",
      "2     2012     1   1    1     30                     2.5   \n",
      "3     2012     1   1    2     30      2.3000000000000003   \n",
      "4     2012     1   1    3     30                    3.96   \n",
      "5     2012     1   1    4     30                    3.85   \n",
      "...    ...   ...  ..  ...    ...                     ...   \n",
      "8780  2012    12  31   19     30                    3.52   \n",
      "8781  2012    12  31   20     30                    3.64   \n",
      "8782  2012    12  31   21     30                    4.61   \n",
      "8783  2012    12  31   22     30                    3.87   \n",
      "8784  2012    12  31   23     30                    1.46   \n",
      "\n",
      "0    wind speed at 60m (m/s) wind speed at 100m (m/s)  \\\n",
      "1          7.640000000000001       11.370000000000001   \n",
      "2                       7.11                    10.56   \n",
      "3                       5.17                     8.47   \n",
      "4                       5.78                     7.36   \n",
      "5                       6.13                     7.24   \n",
      "...                      ...                      ...   \n",
      "8780      7.3500000000000005                     9.39   \n",
      "8781                     8.9                    11.56   \n",
      "8782                    10.3                    13.57   \n",
      "8783                    9.15                    12.18   \n",
      "8784                    4.93                     7.32   \n",
      "\n",
      "0    wind speed at 140m (m/s) wind speed at 200m (m/s)  \n",
      "1                       14.42                    18.28  \n",
      "2                       13.39                    16.91  \n",
      "3                       11.39       15.700000000000001  \n",
      "4                       10.83                    15.36  \n",
      "5           9.700000000000001                    14.18  \n",
      "...                       ...                      ...  \n",
      "8780                    11.59                    14.73  \n",
      "8781                    13.58                    17.03  \n",
      "8782                    16.25                    19.43  \n",
      "8783       14.620000000000001                    17.22  \n",
      "8784                    10.11                    15.14  \n",
      "\n",
      "[8784 rows x 10 columns]\n",
      "0    Month  Day    Year  Hour  Minute  wind speed at 10m (m/s)  \\\n",
      "0        1    1  2012.0  11.5    30.0                 2.170417   \n",
      "1        1    2  2012.0  11.5    30.0                 2.026667   \n",
      "2        1    3  2012.0  11.5    30.0                 4.441250   \n",
      "3        1    4  2012.0  11.5    30.0                 3.654583   \n",
      "4        1    5  2012.0  11.5    30.0                 3.655833   \n",
      "..     ...  ...     ...   ...     ...                      ...   \n",
      "361     12   27  2012.0  11.5    30.0                 1.887083   \n",
      "362     12   28  2012.0  11.5    30.0                 2.980417   \n",
      "363     12   29  2012.0  11.5    30.0                 2.407500   \n",
      "364     12   30  2012.0  11.5    30.0                 4.458750   \n",
      "365     12   31  2012.0  11.5    30.0                 4.421667   \n",
      "\n",
      "0    wind speed at 60m (m/s)  wind speed at 100m (m/s)  \\\n",
      "0                   3.852083                  4.814167   \n",
      "1                   3.875417                  4.600833   \n",
      "2                   8.122083                  9.967083   \n",
      "3                   6.263333                  7.502500   \n",
      "4                   6.661250                  7.629583   \n",
      "..                       ...                       ...   \n",
      "361                 3.762500                  4.806250   \n",
      "362                 4.560833                  5.272500   \n",
      "363                 4.473750                  5.103750   \n",
      "364                 6.984583                  8.415417   \n",
      "365                 6.832083                  8.110833   \n",
      "\n",
      "0    wind speed at 140m (m/s)  wind speed at 200m (m/s)  \n",
      "0                    5.919167                  7.477083  \n",
      "1                    4.854167                  4.939583  \n",
      "2                   11.149583                 12.013333  \n",
      "3                    8.513750                  9.709167  \n",
      "4                    7.994167                  8.103750  \n",
      "..                        ...                       ...  \n",
      "361                  5.625000                  6.743333  \n",
      "362                  5.771667                  6.007083  \n",
      "363                  5.247917                  5.024583  \n",
      "364                  9.681250                 11.145833  \n",
      "365                  9.217917                 10.817500  \n",
      "\n",
      "[366 rows x 10 columns]\n",
      "0     Year Month Day Hour Minute wind speed at 10m (m/s)  \\\n",
      "1     2012     1   1    0     30                    3.64   \n",
      "2     2012     1   1    1     30                    3.98   \n",
      "3     2012     1   1    2     30                     3.5   \n",
      "4     2012     1   1    3     30                    8.56   \n",
      "5     2012     1   1    4     30                    8.25   \n",
      "...    ...   ...  ..  ...    ...                     ...   \n",
      "8780  2012    12  31   19     30                    2.39   \n",
      "8781  2012    12  31   20     30                     2.7   \n",
      "8782  2012    12  31   21     30                     2.9   \n",
      "8783  2012    12  31   22     30                    2.36   \n",
      "8784  2012    12  31   23     30                    1.68   \n",
      "\n",
      "0    wind speed at 60m (m/s) wind speed at 100m (m/s)  \\\n",
      "1                       3.54                     2.16   \n",
      "2                       7.01       5.6000000000000005   \n",
      "3                       9.83                    13.74   \n",
      "4                      14.17                    17.26   \n",
      "5         13.780000000000001                    16.82   \n",
      "...                      ...                      ...   \n",
      "8780                    4.54       5.0600000000000005   \n",
      "8781                    4.71                     5.07   \n",
      "8782      4.8100000000000005                     4.91   \n",
      "8783                    3.27                     3.39   \n",
      "8784                    2.31                      2.5   \n",
      "\n",
      "0    wind speed at 140m (m/s) wind speed at 200m (m/s)  \n",
      "1          1.1500000000000001                     0.45  \n",
      "2                        4.64                     3.35  \n",
      "3                       15.84                    14.18  \n",
      "4                       19.76                    23.16  \n",
      "5                       19.32                     22.7  \n",
      "...                       ...                      ...  \n",
      "8780                     5.58                     6.46  \n",
      "8781                     5.51                     6.26  \n",
      "8782                     5.18       5.7700000000000005  \n",
      "8783                     3.67       4.3100000000000005  \n",
      "8784                     2.87                     3.61  \n",
      "\n",
      "[8784 rows x 10 columns]\n",
      "0    Month  Day    Year  Hour  Minute  wind speed at 10m (m/s)  \\\n",
      "0        1    1  2012.0  11.5    30.0                 5.150417   \n",
      "1        1    2  2012.0  11.5    30.0                 2.191250   \n",
      "2        1    3  2012.0  11.5    30.0                 3.747500   \n",
      "3        1    4  2012.0  11.5    30.0                 3.156250   \n",
      "4        1    5  2012.0  11.5    30.0                 2.424167   \n",
      "..     ...  ...     ...   ...     ...                      ...   \n",
      "361     12   27  2012.0  11.5    30.0                 4.745000   \n",
      "362     12   28  2012.0  11.5    30.0                 5.634583   \n",
      "363     12   29  2012.0  11.5    30.0                 2.656250   \n",
      "364     12   30  2012.0  11.5    30.0                 5.578333   \n",
      "365     12   31  2012.0  11.5    30.0                 3.465833   \n",
      "\n",
      "0    wind speed at 60m (m/s)  wind speed at 100m (m/s)  \\\n",
      "0                   8.118333                  9.253333   \n",
      "1                   4.195833                  4.882917   \n",
      "2                   5.828750                  6.397083   \n",
      "3                   5.225833                  5.652083   \n",
      "4                   4.131250                  4.203750   \n",
      "..                       ...                       ...   \n",
      "361                 6.632083                  6.819167   \n",
      "362                 7.883333                  8.956667   \n",
      "363                 4.276250                  4.893750   \n",
      "364                 7.432500                  8.057917   \n",
      "365                 4.663750                  5.027500   \n",
      "\n",
      "0    wind speed at 140m (m/s)  wind speed at 200m (m/s)  \n",
      "0                    9.980417                 10.692083  \n",
      "1                    5.223750                  5.373333  \n",
      "2                    6.776250                  7.165833  \n",
      "3                    5.883333                  5.905417  \n",
      "4                    3.842500                  3.387500  \n",
      "..                        ...                       ...  \n",
      "361                  6.800417                  6.804583  \n",
      "362                  9.852500                 10.736667  \n",
      "363                  5.379167                  6.073750  \n",
      "364                  8.475000                  8.981250  \n",
      "365                  5.415833                  6.012500  \n",
      "\n",
      "[366 rows x 10 columns]\n"
     ]
    }
   ],
   "source": [
    "from data_analysis import DataAnalysis\n",
    "\n",
    "\n",
    "for ii in range(2):\n",
    "    lat = centroids_gdf['ylat'].iloc[ii]\n",
    "    lon = centroids_gdf['xlong'].iloc[ii]\n",
    "    year = 2012\n",
    "    data = DataAnalysis(lat, lon, year).monthly_data()\n",
    "    print(data)"
   ]
  }
 ],
 "metadata": {
  "kernelspec": {
   "display_name": "website",
   "language": "python",
   "name": "python3"
  },
  "language_info": {
   "codemirror_mode": {
    "name": "ipython",
    "version": 3
   },
   "file_extension": ".py",
   "mimetype": "text/x-python",
   "name": "python",
   "nbconvert_exporter": "python",
   "pygments_lexer": "ipython3",
   "version": "3.7.7"
  }
 },
 "nbformat": 4,
 "nbformat_minor": 2
}
