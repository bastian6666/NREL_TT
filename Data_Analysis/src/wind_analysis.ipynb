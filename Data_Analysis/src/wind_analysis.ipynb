{
 "cells": [
  {
   "cell_type": "code",
   "execution_count": 9,
   "metadata": {
    "vscode": {
     "languageId": "ruby"
    }
   },
   "outputs": [],
   "source": [
    "import geopandas as gpd\n",
    "import folium\n",
    "from folium.plugins import MarkerCluster\n",
    "import pydeck as pdk\n",
    "import numpy as np"
   ]
  },
  {
   "cell_type": "code",
   "execution_count": 17,
   "metadata": {
    "vscode": {
     "languageId": "ruby"
    }
   },
   "outputs": [
    {
     "data": {
      "application/vnd.jupyter.widget-view+json": {
       "model_id": "e4cb1a24ca004a8085094f5ccfa1fac1",
       "version_major": 2,
       "version_minor": 0
      },
      "text/plain": [
       "DeckGLWidget(carto_key=None, custom_libraries=[], google_maps_key=None, json_input='{\\n  \"initialViewState\": {…"
      ]
     },
     "metadata": {},
     "output_type": "display_data"
    }
   ],
   "source": [
    "# Load the wind turbine locations shape file\n",
    "wind_turbine_shapefile_path = \"../data/uswtdbSHP/uswtdb_v7_0_20240510.shp\"\n",
    "wind_turbine_shapefile = gpd.read_file(wind_turbine_shapefile_path)\n",
    "\n",
    "# Select only the wind turbines in Texas\n",
    "wind_turbines_in_texas = wind_turbine_shapefile[wind_turbine_shapefile['t_state'] == 'TX']\n",
    "\n",
    "# Define a layer to display on a map\n",
    "layer = pdk.Layer(\n",
    "    'ScatterplotLayer',\n",
    "    wind_turbines_in_texas,\n",
    "    get_position='[xlong, ylat]',\n",
    "    get_color=[200, 30, 0, 160],\n",
    "    get_radius=500,)\n",
    "\n",
    "# Set the viewport location\n",
    "view_state = pdk.ViewState(\n",
    "    longitude=wind_turbines_in_texas['xlong'].mean(),\n",
    "    latitude=wind_turbines_in_texas['ylat'].mean(),\n",
    "    zoom=6,\n",
    "    min_zoom=5,\n",
    "    max_zoom=15)\n",
    "\n",
    "# Render\n",
    "r = pdk.Deck(layers=[layer], initial_view_state=view_state)\n",
    "r.show()"
   ]
  },
  {
   "cell_type": "code",
   "execution_count": 18,
   "metadata": {},
   "outputs": [
    {
     "data": {
      "application/vnd.jupyter.widget-view+json": {
       "model_id": "2e9f5710a3674a709a376592c13b064d",
       "version_major": 2,
       "version_minor": 0
      },
      "text/plain": [
       "DeckGLWidget(carto_key=None, custom_libraries=[], google_maps_key=None, json_input='{\\n  \"initialViewState\": {…"
      ]
     },
     "metadata": {},
     "output_type": "display_data"
    }
   ],
   "source": [
    "def safe_convert(val):\n",
    "    try:\n",
    "        return int(val[:4])\n",
    "    except ValueError:\n",
    "        return np.nan\n",
    "\n",
    "filtered_df = wind_turbines_in_texas.copy()\n",
    "filtered_df['faa_asn'] = filtered_df['faa_asn'].apply(safe_convert)\n",
    "filtered_df = filtered_df[filtered_df['faa_asn'] <= 2012]\n",
    "\n",
    "\n",
    "layer = pdk.Layer(\n",
    "    'ScatterplotLayer',\n",
    "    filtered_df,\n",
    "    get_position='[xlong, ylat]',  \n",
    "    get_radius=50,\n",
    "    get_fill_color='[200, 30, 0]',\n",
    "    pickable=True,\n",
    "    auto_highlight=True\n",
    ")\n",
    "\n",
    "# Set the viewport location\n",
    "view_state = pdk.ViewState(\n",
    "    longitude=filtered_df['xlong'].mean(),\n",
    "    latitude=filtered_df['ylat'].mean(),\n",
    "    zoom=6,\n",
    "    min_zoom=5,\n",
    "    max_zoom=15)\n",
    "\n",
    "r = pdk.Deck(layers=[layer], initial_view_state=view_state)\n",
    "r.show()\n",
    "\n",
    "r = pdk.Deck(layers=[layer], initial_view_state=view_state)\n",
    "r.show()"
   ]
  },
  {
   "cell_type": "code",
   "execution_count": 20,
   "metadata": {},
   "outputs": [
    {
     "name": "stdout",
     "output_type": "stream",
     "text": [
      "Number of clusters found: 34\n"
     ]
    },
    {
     "data": {
      "application/vnd.jupyter.widget-view+json": {
       "model_id": "2c6355d61b5b44739e8faceab3c139d6",
       "version_major": 2,
       "version_minor": 0
      },
      "text/plain": [
       "DeckGLWidget(carto_key=None, custom_libraries=[], google_maps_key=None, json_input='{\\n  \"initialViewState\": {…"
      ]
     },
     "metadata": {},
     "output_type": "display_data"
    }
   ],
   "source": [
    "from sklearn.cluster import DBSCAN\n",
    "\n",
    "# Extract the coordinates from the GeoDataFrame\n",
    "points = filtered_df.geometry.apply(lambda point: (point.x, point.y)).tolist()\n",
    "\n",
    "# Run DBSCAN algorithm\n",
    "epsilon = 0.1  # Distance threshold for clustering\n",
    "min_samples = 5  # Minimum number of points required to form a cluster\n",
    "dbscan = DBSCAN(eps=epsilon, min_samples=min_samples)\n",
    "labels = dbscan.fit_predict(points)\n",
    "\n",
    "# Add the cluster labels to the GeoDataFrame\n",
    "filtered_df['cluster_label'] = labels\n",
    "\n",
    "# Print the number of clusters found\n",
    "num_clusters = len(set(labels)) - (1 if -1 in labels else 0)\n",
    "print(f\"Number of clusters found: {num_clusters}\")\n",
    "\n",
    "# Create a scatter plot by assigning different colors to the clusters using pdk\n",
    "\n",
    "layer = pdk.Layer(\n",
    "    'ScatterplotLayer',\n",
    "    filtered_df,\n",
    "    get_position='[xlong, ylat]',  \n",
    "    get_radius=50,\n",
    "    get_fill_color='[200, cluster_label*15, 0]',\n",
    "    pickable=True,\n",
    "    auto_highlight=True\n",
    ")\n",
    "\n",
    "r = pdk.Deck(layers=[layer], initial_view_state=view_state)\n",
    "r.show()"
   ]
  }
 ],
 "metadata": {
  "kernelspec": {
   "display_name": "website",
   "language": "python",
   "name": "python3"
  },
  "language_info": {
   "codemirror_mode": {
    "name": "ipython",
    "version": 3
   },
   "file_extension": ".py",
   "mimetype": "text/x-python",
   "name": "python",
   "nbconvert_exporter": "python",
   "pygments_lexer": "ipython3",
   "version": "3.7.7"
  }
 },
 "nbformat": 4,
 "nbformat_minor": 2
}
