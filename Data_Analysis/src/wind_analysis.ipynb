{
 "cells": [
  {
   "cell_type": "markdown",
   "metadata": {},
   "source": [
    "# Wind Turbines analysis"
   ]
  },
  {
   "cell_type": "code",
   "execution_count": 27,
   "metadata": {
    "vscode": {
     "languageId": "ruby"
    }
   },
   "outputs": [],
   "source": [
    "import geopandas as gpd\n",
    "import folium\n",
    "from folium.plugins import MarkerCluster\n",
    "import pydeck as pdk\n",
    "import numpy as np\n",
    "import pandas as pd\n",
    "from sklearn.cluster import DBSCAN\n",
    "from data_analysis import DataAnalysis\n",
    "import matplotlib.pyplot as plt\n",
    "import seaborn as sns"
   ]
  },
  {
   "cell_type": "markdown",
   "metadata": {},
   "source": [
    "## Extract turbines inside Texas territory"
   ]
  },
  {
   "cell_type": "code",
   "execution_count": 28,
   "metadata": {
    "vscode": {
     "languageId": "ruby"
    }
   },
   "outputs": [
    {
     "data": {
      "application/vnd.jupyter.widget-view+json": {
       "model_id": "9b5f3cb836ed41c6baa72ad519605e77",
       "version_major": 2,
       "version_minor": 0
      },
      "text/plain": [
       "DeckGLWidget(carto_key=None, custom_libraries=[], google_maps_key=None, json_input='{\\n  \"initialViewState\": {…"
      ]
     },
     "metadata": {},
     "output_type": "display_data"
    }
   ],
   "source": [
    "# Load the wind turbine locations shape file\n",
    "wind_turbine_shapefile_path = \"../data/uswtdbSHP/uswtdb_v7_0_20240510.shp\"\n",
    "wind_turbine_shapefile = gpd.read_file(wind_turbine_shapefile_path)\n",
    "\n",
    "# Select only the wind turbines in Texas\n",
    "wind_turbines_in_texas = wind_turbine_shapefile[wind_turbine_shapefile['t_state'] == 'TX']\n",
    "\n",
    "# Define a layer to display on a map\n",
    "layer = pdk.Layer(\n",
    "    'ScatterplotLayer',\n",
    "    wind_turbines_in_texas,\n",
    "    get_position='[xlong, ylat]',\n",
    "    get_color=[200, 30, 0, 160],\n",
    "    get_radius=500,)\n",
    "\n",
    "# Set the viewport location\n",
    "view_state = pdk.ViewState(\n",
    "    longitude=wind_turbines_in_texas['xlong'].mean(),\n",
    "    latitude=wind_turbines_in_texas['ylat'].mean(),\n",
    "    zoom=6,\n",
    "    min_zoom=1,\n",
    "    max_zoom=15)\n",
    "\n",
    "# Render\n",
    "r = pdk.Deck(layers=[layer], initial_view_state=view_state)\n",
    "r.show()\n"
   ]
  },
  {
   "cell_type": "markdown",
   "metadata": {},
   "source": [
    "# Filter the wind turbines build before 2012"
   ]
  },
  {
   "cell_type": "code",
   "execution_count": 30,
   "metadata": {},
   "outputs": [
    {
     "data": {
      "application/vnd.jupyter.widget-view+json": {
       "model_id": "a4ea819735464606bee25f7b31f5a5c2",
       "version_major": 2,
       "version_minor": 0
      },
      "text/plain": [
       "DeckGLWidget(carto_key=None, custom_libraries=[], google_maps_key=None, json_input='{\\n  \"initialViewState\": {…"
      ]
     },
     "metadata": {},
     "output_type": "display_data"
    }
   ],
   "source": [
    "def safe_convert(val):\n",
    "    try:\n",
    "        return int(val[:4])\n",
    "    except ValueError:\n",
    "        return np.nan\n",
    "\n",
    "filtered_df = wind_turbines_in_texas.copy()\n",
    "filtered_df['faa_asn'] = filtered_df['faa_asn'].apply(safe_convert)\n",
    "filtered_df = filtered_df[filtered_df['faa_asn'] <= 2012]\n",
    "\n",
    "\n",
    "layer = pdk.Layer(\n",
    "    'ScatterplotLayer',\n",
    "    filtered_df,\n",
    "    get_position='[xlong, ylat]',  \n",
    "    get_radius=50,\n",
    "    get_fill_color='[200, 30, 0]',\n",
    "    pickable=True,\n",
    "    auto_highlight=True\n",
    ")\n",
    "\n",
    "view_state = pdk.ViewState(\n",
    "    longitude=filtered_df['xlong'].mean(),\n",
    "    latitude=filtered_df['ylat'].mean(),\n",
    "    zoom=6,\n",
    "    min_zoom=1,\n",
    "    max_zoom=15)\n",
    "\n",
    "r = pdk.Deck(layers=[layer], initial_view_state=view_state)\n",
    "r.show()\n",
    "\n",
    "r = pdk.Deck(layers=[layer], initial_view_state=view_state)\n",
    "r.show()"
   ]
  },
  {
   "cell_type": "markdown",
   "metadata": {},
   "source": [
    "## Run DBSCAN algorithm to detect clusters"
   ]
  },
  {
   "cell_type": "code",
   "execution_count": 31,
   "metadata": {},
   "outputs": [
    {
     "name": "stdout",
     "output_type": "stream",
     "text": [
      "Number of clusters found: 34\n"
     ]
    },
    {
     "data": {
      "application/vnd.jupyter.widget-view+json": {
       "model_id": "e162e5b1e76a4296b31afbdd95d49652",
       "version_major": 2,
       "version_minor": 0
      },
      "text/plain": [
       "DeckGLWidget(carto_key=None, custom_libraries=[], google_maps_key=None, json_input='{\\n  \"initialViewState\": {…"
      ]
     },
     "metadata": {},
     "output_type": "display_data"
    }
   ],
   "source": [
    "\n",
    "points = filtered_df.geometry.apply(lambda point: (point.x, point.y)).tolist()\n",
    "\n",
    "epsilon = 0.1  # Distance threshold for clustering\n",
    "min_samples = 5  # Minimum number of points required to form a cluster\n",
    "dbscan = DBSCAN(eps=epsilon, min_samples=min_samples)\n",
    "labels = dbscan.fit_predict(points)\n",
    "\n",
    "# Add the cluster labels to the GeoDataFrame\n",
    "filtered_df['cluster_label'] = labels\n",
    "\n",
    "# Print the number of clusters found\n",
    "num_clusters = len(set(labels)) - (1 if -1 in labels else 0)\n",
    "print(f\"Number of clusters found: {num_clusters}\")\n",
    "\n",
    "# Create a scatter plot by assigning different colors to the clusters using pdk\n",
    "\n",
    "layer = pdk.Layer(\n",
    "    'ScatterplotLayer',\n",
    "    filtered_df,\n",
    "    get_position='[xlong, ylat]',  \n",
    "    get_radius=50,\n",
    "    get_fill_color='[200, cluster_label*15, 0]',\n",
    "    pickable=True,\n",
    "    auto_highlight=True\n",
    ")\n",
    "\n",
    "r = pdk.Deck(layers=[layer], initial_view_state=view_state)\n",
    "r.show()"
   ]
  },
  {
   "cell_type": "markdown",
   "metadata": {},
   "source": [
    "## Calculate the centroid of each cluster"
   ]
  },
  {
   "cell_type": "code",
   "execution_count": 33,
   "metadata": {},
   "outputs": [
    {
     "data": {
      "application/vnd.jupyter.widget-view+json": {
       "model_id": "3834a6ac1920436aa32f681b22cc40ed",
       "version_major": 2,
       "version_minor": 0
      },
      "text/plain": [
       "DeckGLWidget(carto_key=None, custom_libraries=[], google_maps_key=None, json_input='{\\n  \"initialViewState\": {…"
      ]
     },
     "metadata": {},
     "output_type": "display_data"
    }
   ],
   "source": [
    "centroids = []\n",
    "for cluster_label in range(num_clusters):\n",
    "    cluster_points = filtered_df[filtered_df['cluster_label'] == cluster_label]\n",
    "    centroid = np.mean(cluster_points[['xlong', 'ylat']], axis=0)\n",
    "    centroids.append(centroid)\n",
    "\n",
    "centroids_df = pd.DataFrame(centroids, columns=['xlong', 'ylat'])\n",
    "\n",
    "\n",
    "centroid_layer = pdk.Layer(\n",
    "    'ScatterplotLayer',\n",
    "    data=centroids_df,  # Use the DataFrame here\n",
    "    get_position='[xlong, ylat]',  # Use the column names here\n",
    "    get_radius=4000,\n",
    "    get_fill_color='[0, 191, 255]',\n",
    "    pickable=True,\n",
    "    auto_highlight=True\n",
    ")\n",
    "\n",
    "r = pdk.Deck(layers=[layer, centroid_layer], initial_view_state=view_state)\n",
    "r.show()\n"
   ]
  },
  {
   "cell_type": "markdown",
   "metadata": {},
   "source": [
    "## Create a GeoDataFrame from the centroids DataFrame"
   ]
  },
  {
   "cell_type": "code",
   "execution_count": 6,
   "metadata": {},
   "outputs": [],
   "source": [
    "centroids_gdf = gpd.GeoDataFrame(\n",
    "    centroids_df,\n",
    "    geometry=gpd.points_from_xy(centroids_df['xlong'], centroids_df['ylat'])\n",
    ")\n",
    "\n",
    "# Save the GeoDataFrame to a csv file\n",
    "#centroids_gdf.to_csv(\"centroids.csv\", index=False)\n",
    "\n",
    "# Add a cluster_label column to the centroids DataFrame\n",
    "centroids_df['cluster_label'] = range(len(centroids_df))\n",
    "\n",
    "# Merge the centroids_df with the clusters_gdf\n",
    "clusters_gdf = filtered_df.copy()\n",
    "clusters_gdf = clusters_gdf.merge(centroids_df, on='cluster_label', suffixes=('', '_centroid'))\n",
    "\n",
    "# Save the clusters_gdf to a csv file\n",
    "#clusters_gdf.to_csv(\"clusters.csv\", index=False)"
   ]
  },
  {
   "cell_type": "markdown",
   "metadata": {},
   "source": [
    "## Test NREL windtoolkit with the centroids coordinates"
   ]
  },
  {
   "cell_type": "code",
   "execution_count": 24,
   "metadata": {},
   "outputs": [
    {
     "name": "stdout",
     "output_type": "stream",
     "text": [
      "0     Year Month Day Hour Minute wind speed at 10m (m/s)  \\\n",
      "1     2012     1   1    0     30      2.7600000000000002   \n",
      "2     2012     1   1    1     30                     2.5   \n",
      "3     2012     1   1    2     30      2.3000000000000003   \n",
      "4     2012     1   1    3     30                    3.96   \n",
      "5     2012     1   1    4     30                    3.85   \n",
      "...    ...   ...  ..  ...    ...                     ...   \n",
      "8780  2012    12  31   19     30                    3.52   \n",
      "8781  2012    12  31   20     30                    3.64   \n",
      "8782  2012    12  31   21     30                    4.61   \n",
      "8783  2012    12  31   22     30                    3.87   \n",
      "8784  2012    12  31   23     30                    1.46   \n",
      "\n",
      "0    wind speed at 60m (m/s) wind speed at 100m (m/s)  \\\n",
      "1          7.640000000000001       11.370000000000001   \n",
      "2                       7.11                    10.56   \n",
      "3                       5.17                     8.47   \n",
      "4                       5.78                     7.36   \n",
      "5                       6.13                     7.24   \n",
      "...                      ...                      ...   \n",
      "8780      7.3500000000000005                     9.39   \n",
      "8781                     8.9                    11.56   \n",
      "8782                    10.3                    13.57   \n",
      "8783                    9.15                    12.18   \n",
      "8784                    4.93                     7.32   \n",
      "\n",
      "0    wind speed at 140m (m/s) wind speed at 200m (m/s)  \n",
      "1                       14.42                    18.28  \n",
      "2                       13.39                    16.91  \n",
      "3                       11.39       15.700000000000001  \n",
      "4                       10.83                    15.36  \n",
      "5           9.700000000000001                    14.18  \n",
      "...                       ...                      ...  \n",
      "8780                    11.59                    14.73  \n",
      "8781                    13.58                    17.03  \n",
      "8782                    16.25                    19.43  \n",
      "8783       14.620000000000001                    17.22  \n",
      "8784                    10.11                    15.14  \n",
      "\n",
      "[8784 rows x 10 columns]\n"
     ]
    }
   ],
   "source": [
    "for ii in range(1):\n",
    "    lat = centroids_gdf['ylat'].iloc[ii]\n",
    "    lon = centroids_gdf['xlong'].iloc[ii]\n",
    "    year = 2012\n",
    "    df = DataAnalysis(lat, lon, year).monthly_data()\n"
   ]
  },
  {
   "cell_type": "code",
   "execution_count": 25,
   "metadata": {},
   "outputs": [
    {
     "data": {
      "image/png": "[encoded data removed]",
      "text/plain": [
       "<Figure size 720x432 with 1 Axes>"
      ]
     },
     "metadata": {
      "needs_background": "light"
     },
     "output_type": "display_data"
    }
   ],
   "source": [
    "\n",
    "heights = ['wind speed at 10m (m/s)', 'wind speed at 60m (m/s)', 'wind speed at 100m (m/s)', 'wind speed at 140m (m/s)', 'wind speed at 200m (m/s)']\n",
    "average_speeds = df[heights].mean()\n",
    "average_speeds.plot(kind='bar', figsize=(10, 6))\n",
    "plt.title('Average Windspeed at Different Heights')\n",
    "plt.ylabel('Windspeed (m/s)')\n",
    "plt.xlabel('Height (m)')\n",
    "plt.show()"
   ]
  },
  {
   "cell_type": "code",
   "execution_count": 26,
   "metadata": {},
   "outputs": [
    {
     "data": {
      "image/png": "[encoded data removed]",
      "text/plain": [
       "<Figure size 864x432 with 1 Axes>"
      ]
     },
     "metadata": {
      "needs_background": "light"
     },
     "output_type": "display_data"
    }
   ],
   "source": [
    "melted_df = df[heights].melt(var_name='Height', value_name='Windspeed', ignore_index=False)\n",
    "plt.figure(figsize=(12, 6))\n",
    "sns.boxplot(x='Height', y='Windspeed', data=melted_df)\n",
    "plt.title('Box Plot of Windspeed at Different Heights')\n",
    "plt.ylabel('Windspeed (m/s)')\n",
    "plt.xlabel('Height (m)')\n",
    "plt.show()"
   ]
  }
 ],
 "metadata": {
  "kernelspec": {
   "display_name": "website",
   "language": "python",
   "name": "python3"
  },
  "language_info": {
   "codemirror_mode": {
    "name": "ipython",
    "version": 3
   },
   "file_extension": ".py",
   "mimetype": "text/x-python",
   "name": "python",
   "nbconvert_exporter": "python",
   "pygments_lexer": "ipython3",
   "version": "3.7.7"
  }
 },
 "nbformat": 4,
 "nbformat_minor": 2
}
